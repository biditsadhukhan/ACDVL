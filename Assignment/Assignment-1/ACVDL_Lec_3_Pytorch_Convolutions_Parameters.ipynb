{
  "nbformat": 4,
  "nbformat_minor": 0,
  "metadata": {
    "colab": {
      "provenance": []
    },
    "kernelspec": {
      "name": "python3",
      "display_name": "Python 3"
    },
    "language_info": {
      "name": "python"
    }
  },
  "cells": [
    {
      "cell_type": "code",
      "execution_count": null,
      "metadata": {
        "id": "BL8wnhUR1uGB",
        "colab": {
          "base_uri": "https://localhost:8080/"
        },
        "outputId": "7435c585-1747-4b60-92c4-2b6c47e4dff4"
      },
      "outputs": [
        {
          "output_type": "stream",
          "name": "stdout",
          "text": [
            "Collecting ptflops\n",
            "  Downloading ptflops-0.7.2.2-py3-none-any.whl (15 kB)\n",
            "Requirement already satisfied: torch in /usr/local/lib/python3.10/dist-packages (from ptflops) (2.1.0+cu121)\n",
            "Requirement already satisfied: filelock in /usr/local/lib/python3.10/dist-packages (from torch->ptflops) (3.13.1)\n",
            "Requirement already satisfied: typing-extensions in /usr/local/lib/python3.10/dist-packages (from torch->ptflops) (4.5.0)\n",
            "Requirement already satisfied: sympy in /usr/local/lib/python3.10/dist-packages (from torch->ptflops) (1.12)\n",
            "Requirement already satisfied: networkx in /usr/local/lib/python3.10/dist-packages (from torch->ptflops) (3.2.1)\n",
            "Requirement already satisfied: jinja2 in /usr/local/lib/python3.10/dist-packages (from torch->ptflops) (3.1.3)\n",
            "Requirement already satisfied: fsspec in /usr/local/lib/python3.10/dist-packages (from torch->ptflops) (2023.6.0)\n",
            "Requirement already satisfied: triton==2.1.0 in /usr/local/lib/python3.10/dist-packages (from torch->ptflops) (2.1.0)\n",
            "Requirement already satisfied: MarkupSafe>=2.0 in /usr/local/lib/python3.10/dist-packages (from jinja2->torch->ptflops) (2.1.4)\n",
            "Requirement already satisfied: mpmath>=0.19 in /usr/local/lib/python3.10/dist-packages (from sympy->torch->ptflops) (1.3.0)\n",
            "Installing collected packages: ptflops\n",
            "Successfully installed ptflops-0.7.2.2\n"
          ]
        }
      ],
      "source": [
        "! pip install -q torchview\n",
        "! pip install -q -U graphviz\n",
        "! pip install ptflops"
      ]
    },
    {
      "cell_type": "code",
      "source": [
        "from ptflops import get_model_complexity_info"
      ],
      "metadata": {
        "id": "ylKZS9xi2ie5"
      },
      "execution_count": null,
      "outputs": []
    },
    {
      "cell_type": "code",
      "source": [
        "# Andrew Ng recommends to perform batch norm before relu\n",
        "\n",
        "import torch\n",
        "import torch.nn as nn\n",
        "from torch import Tensor\n",
        "import torch.nn.functional as F\n",
        "from torchsummary import summary\n",
        "from torchsummary import summary\n",
        "from torchview import draw_graph\n",
        "from torchvision.models import resnet18, GoogLeNet, densenet, vit_b_16\n",
        "# when running on VSCode run the below command\n",
        "# svg format on vscode does not give desired result\n",
        "import graphviz\n",
        "graphviz.set_jupyter_format('png')\n",
        "import matplotlib.pyplot as plt\n"
      ],
      "metadata": {
        "id": "ar5G-4872j6L"
      },
      "execution_count": null,
      "outputs": []
    },
    {
      "cell_type": "code",
      "source": [
        "use_cuda = torch.cuda.is_available()\n",
        "print('use_cuda: {}'.format(use_cuda))\n",
        "device = torch.device(\"cuda\" if use_cuda else \"cpu\")\n",
        "print(\"Device to be used : \",device)"
      ],
      "metadata": {
        "colab": {
          "base_uri": "https://localhost:8080/"
        },
        "id": "BZ9bwneX2k_t",
        "outputId": "1cb8577b-cde7-4a4b-b315-f53602347be4"
      },
      "execution_count": null,
      "outputs": [
        {
          "output_type": "stream",
          "name": "stdout",
          "text": [
            "use_cuda: False\n",
            "Device to be used :  cpu\n"
          ]
        }
      ]
    },
    {
      "cell_type": "markdown",
      "source": [
        "### Sourish's question"
      ],
      "metadata": {
        "id": "T09y1lxO2sK-"
      }
    },
    {
      "cell_type": "code",
      "source": [
        "import torch\n",
        "import torch.nn as nn\n",
        "import torch.nn.functional as F\n",
        "from torchsummary import summary\n",
        "\n",
        "\n",
        "\n",
        "class ffnn(nn.Module):\n",
        "    def __init__(self):\n",
        "        super().__init__()\n",
        "        self.fc1 = nn.Linear(5, 10)\n",
        "        self.out = nn.Linear(10, 3)\n",
        "        self.sigmoid = nn.Sigmoid()\n",
        "\n",
        "\n",
        "    def forward(self, x):\n",
        "        x = self.fc1(x)\n",
        "        x = self.out(x)\n",
        "        x = self.sigmoid(x)\n",
        "        return x"
      ],
      "metadata": {
        "id": "jQx8FE-J2mV7"
      },
      "execution_count": null,
      "outputs": []
    },
    {
      "cell_type": "code",
      "source": [
        "model = ffnn()\n",
        "model_graph1 = draw_graph(model, input_size=(1,5),  expand_nested=True)\n",
        "model_graph1.visual_graph.render(format='png')\n",
        "model_graph1.visual_graph"
      ],
      "metadata": {
        "colab": {
          "base_uri": "https://localhost:8080/",
          "height": 473
        },
        "id": "BICNYTPv2nvY",
        "outputId": "54dc96f9-da92-43ed-cc29-0780d792c570"
      },
      "execution_count": null,
      "outputs": [
        {
          "output_type": "execute_result",
          "data": {
            "image/png": "[encoded data removed]",
            "text/plain": [
              "<graphviz.graphs.Digraph at 0x7fac82713d00>"
            ]
          },
          "metadata": {},
          "execution_count": 6
        }
      ]
    },
    {
      "cell_type": "code",
      "source": [
        "summary(model, input_size=(1,5))"
      ],
      "metadata": {
        "colab": {
          "base_uri": "https://localhost:8080/"
        },
        "id": "D0mcJhcZ2pVp",
        "outputId": "bc4a8a52-ffe9-45dd-81c8-7099bc157dea"
      },
      "execution_count": null,
      "outputs": [
        {
          "output_type": "stream",
          "name": "stdout",
          "text": [
            "----------------------------------------------------------------\n",
            "        Layer (type)               Output Shape         Param #\n",
            "================================================================\n",
            "            Linear-1                [-1, 1, 10]              60\n",
            "            Linear-2                 [-1, 1, 3]              33\n",
            "           Sigmoid-3                 [-1, 1, 3]               0\n",
            "================================================================\n",
            "Total params: 93\n",
            "Trainable params: 93\n",
            "Non-trainable params: 0\n",
            "----------------------------------------------------------------\n",
            "Input size (MB): 0.00\n",
            "Forward/backward pass size (MB): 0.00\n",
            "Params size (MB): 0.00\n",
            "Estimated Total Size (MB): 0.00\n",
            "----------------------------------------------------------------\n"
          ]
        }
      ]
    },
    {
      "cell_type": "markdown",
      "source": [
        "## First example"
      ],
      "metadata": {
        "id": "5HFd_Alk6B7d"
      }
    },
    {
      "cell_type": "code",
      "source": [
        "# First dimension is for batch, then channel then height-width\n",
        "input_tensor = torch.randn(1,1,1,3072)\n",
        "print(\"input_tensor => \",input_tensor.shape)\n",
        "conv_layer = nn.Conv2d(in_channels=1, out_channels=10, kernel_size=3072)\n",
        "output_tensor = conv_layer(input_tensor)\n",
        "print(\"output_tensor shape => \",output_tensor.shape)"
      ],
      "metadata": {
        "colab": {
          "base_uri": "https://localhost:8080/",
          "height": 411
        },
        "id": "xHa1xBHN4Xup",
        "outputId": "2da29156-8abd-4f6c-dc0b-be0c566166c8"
      },
      "execution_count": null,
      "outputs": [
        {
          "output_type": "stream",
          "name": "stdout",
          "text": [
            "input_tensor =>  torch.Size([1, 1, 1, 3072])\n"
          ]
        },
        {
          "output_type": "error",
          "ename": "RuntimeError",
          "evalue": "Calculated padded input size per channel: (1 x 3072). Kernel size: (3072 x 3072). Kernel size can't be greater than actual input size",
          "traceback": [
            "\u001b[0;31m---------------------------------------------------------------------------\u001b[0m",
            "\u001b[0;31mRuntimeError\u001b[0m                              Traceback (most recent call last)",
            "\u001b[0;32m<ipython-input-5-b5e7801d0ea6>\u001b[0m in \u001b[0;36m<cell line: 5>\u001b[0;34m()\u001b[0m\n\u001b[1;32m      3\u001b[0m \u001b[0mprint\u001b[0m\u001b[0;34m(\u001b[0m\u001b[0;34m\"input_tensor => \"\u001b[0m\u001b[0;34m,\u001b[0m\u001b[0minput_tensor\u001b[0m\u001b[0;34m.\u001b[0m\u001b[0mshape\u001b[0m\u001b[0;34m)\u001b[0m\u001b[0;34m\u001b[0m\u001b[0;34m\u001b[0m\u001b[0m\n\u001b[1;32m      4\u001b[0m \u001b[0mconv_layer\u001b[0m \u001b[0;34m=\u001b[0m \u001b[0mnn\u001b[0m\u001b[0;34m.\u001b[0m\u001b[0mConv2d\u001b[0m\u001b[0;34m(\u001b[0m\u001b[0min_channels\u001b[0m\u001b[0;34m=\u001b[0m\u001b[0;36m1\u001b[0m\u001b[0;34m,\u001b[0m \u001b[0mout_channels\u001b[0m\u001b[0;34m=\u001b[0m\u001b[0;36m10\u001b[0m\u001b[0;34m,\u001b[0m \u001b[0mkernel_size\u001b[0m\u001b[0;34m=\u001b[0m\u001b[0;36m3072\u001b[0m\u001b[0;34m)\u001b[0m\u001b[0;34m\u001b[0m\u001b[0;34m\u001b[0m\u001b[0m\n\u001b[0;32m----> 5\u001b[0;31m \u001b[0moutput_tensor\u001b[0m \u001b[0;34m=\u001b[0m \u001b[0mconv_layer\u001b[0m\u001b[0;34m(\u001b[0m\u001b[0minput_tensor\u001b[0m\u001b[0;34m)\u001b[0m\u001b[0;34m\u001b[0m\u001b[0;34m\u001b[0m\u001b[0m\n\u001b[0m\u001b[1;32m      6\u001b[0m \u001b[0mprint\u001b[0m\u001b[0;34m(\u001b[0m\u001b[0;34m\"output_tensor shape => \"\u001b[0m\u001b[0;34m,\u001b[0m\u001b[0moutput_tensor\u001b[0m\u001b[0;34m.\u001b[0m\u001b[0mshape\u001b[0m\u001b[0;34m)\u001b[0m\u001b[0;34m\u001b[0m\u001b[0;34m\u001b[0m\u001b[0m\n",
            "\u001b[0;32m/usr/local/lib/python3.10/dist-packages/torch/nn/modules/module.py\u001b[0m in \u001b[0;36m_wrapped_call_impl\u001b[0;34m(self, *args, **kwargs)\u001b[0m\n\u001b[1;32m   1516\u001b[0m             \u001b[0;32mreturn\u001b[0m \u001b[0mself\u001b[0m\u001b[0;34m.\u001b[0m\u001b[0m_compiled_call_impl\u001b[0m\u001b[0;34m(\u001b[0m\u001b[0;34m*\u001b[0m\u001b[0margs\u001b[0m\u001b[0;34m,\u001b[0m \u001b[0;34m**\u001b[0m\u001b[0mkwargs\u001b[0m\u001b[0;34m)\u001b[0m  \u001b[0;31m# type: ignore[misc]\u001b[0m\u001b[0;34m\u001b[0m\u001b[0;34m\u001b[0m\u001b[0m\n\u001b[1;32m   1517\u001b[0m         \u001b[0;32melse\u001b[0m\u001b[0;34m:\u001b[0m\u001b[0;34m\u001b[0m\u001b[0;34m\u001b[0m\u001b[0m\n\u001b[0;32m-> 1518\u001b[0;31m             \u001b[0;32mreturn\u001b[0m \u001b[0mself\u001b[0m\u001b[0;34m.\u001b[0m\u001b[0m_call_impl\u001b[0m\u001b[0;34m(\u001b[0m\u001b[0;34m*\u001b[0m\u001b[0margs\u001b[0m\u001b[0;34m,\u001b[0m \u001b[0;34m**\u001b[0m\u001b[0mkwargs\u001b[0m\u001b[0;34m)\u001b[0m\u001b[0;34m\u001b[0m\u001b[0;34m\u001b[0m\u001b[0m\n\u001b[0m\u001b[1;32m   1519\u001b[0m \u001b[0;34m\u001b[0m\u001b[0m\n\u001b[1;32m   1520\u001b[0m     \u001b[0;32mdef\u001b[0m \u001b[0m_call_impl\u001b[0m\u001b[0;34m(\u001b[0m\u001b[0mself\u001b[0m\u001b[0;34m,\u001b[0m \u001b[0;34m*\u001b[0m\u001b[0margs\u001b[0m\u001b[0;34m,\u001b[0m \u001b[0;34m**\u001b[0m\u001b[0mkwargs\u001b[0m\u001b[0;34m)\u001b[0m\u001b[0;34m:\u001b[0m\u001b[0;34m\u001b[0m\u001b[0;34m\u001b[0m\u001b[0m\n",
            "\u001b[0;32m/usr/local/lib/python3.10/dist-packages/torch/nn/modules/module.py\u001b[0m in \u001b[0;36m_call_impl\u001b[0;34m(self, *args, **kwargs)\u001b[0m\n\u001b[1;32m   1525\u001b[0m                 \u001b[0;32mor\u001b[0m \u001b[0m_global_backward_pre_hooks\u001b[0m \u001b[0;32mor\u001b[0m \u001b[0m_global_backward_hooks\u001b[0m\u001b[0;34m\u001b[0m\u001b[0;34m\u001b[0m\u001b[0m\n\u001b[1;32m   1526\u001b[0m                 or _global_forward_hooks or _global_forward_pre_hooks):\n\u001b[0;32m-> 1527\u001b[0;31m             \u001b[0;32mreturn\u001b[0m \u001b[0mforward_call\u001b[0m\u001b[0;34m(\u001b[0m\u001b[0;34m*\u001b[0m\u001b[0margs\u001b[0m\u001b[0;34m,\u001b[0m \u001b[0;34m**\u001b[0m\u001b[0mkwargs\u001b[0m\u001b[0;34m)\u001b[0m\u001b[0;34m\u001b[0m\u001b[0;34m\u001b[0m\u001b[0m\n\u001b[0m\u001b[1;32m   1528\u001b[0m \u001b[0;34m\u001b[0m\u001b[0m\n\u001b[1;32m   1529\u001b[0m         \u001b[0;32mtry\u001b[0m\u001b[0;34m:\u001b[0m\u001b[0;34m\u001b[0m\u001b[0;34m\u001b[0m\u001b[0m\n",
            "\u001b[0;32m/usr/local/lib/python3.10/dist-packages/torch/nn/modules/conv.py\u001b[0m in \u001b[0;36mforward\u001b[0;34m(self, input)\u001b[0m\n\u001b[1;32m    458\u001b[0m \u001b[0;34m\u001b[0m\u001b[0m\n\u001b[1;32m    459\u001b[0m     \u001b[0;32mdef\u001b[0m \u001b[0mforward\u001b[0m\u001b[0;34m(\u001b[0m\u001b[0mself\u001b[0m\u001b[0;34m,\u001b[0m \u001b[0minput\u001b[0m\u001b[0;34m:\u001b[0m \u001b[0mTensor\u001b[0m\u001b[0;34m)\u001b[0m \u001b[0;34m->\u001b[0m \u001b[0mTensor\u001b[0m\u001b[0;34m:\u001b[0m\u001b[0;34m\u001b[0m\u001b[0;34m\u001b[0m\u001b[0m\n\u001b[0;32m--> 460\u001b[0;31m         \u001b[0;32mreturn\u001b[0m \u001b[0mself\u001b[0m\u001b[0;34m.\u001b[0m\u001b[0m_conv_forward\u001b[0m\u001b[0;34m(\u001b[0m\u001b[0minput\u001b[0m\u001b[0;34m,\u001b[0m \u001b[0mself\u001b[0m\u001b[0;34m.\u001b[0m\u001b[0mweight\u001b[0m\u001b[0;34m,\u001b[0m \u001b[0mself\u001b[0m\u001b[0;34m.\u001b[0m\u001b[0mbias\u001b[0m\u001b[0;34m)\u001b[0m\u001b[0;34m\u001b[0m\u001b[0;34m\u001b[0m\u001b[0m\n\u001b[0m\u001b[1;32m    461\u001b[0m \u001b[0;34m\u001b[0m\u001b[0m\n\u001b[1;32m    462\u001b[0m \u001b[0;32mclass\u001b[0m \u001b[0mConv3d\u001b[0m\u001b[0;34m(\u001b[0m\u001b[0m_ConvNd\u001b[0m\u001b[0;34m)\u001b[0m\u001b[0;34m:\u001b[0m\u001b[0;34m\u001b[0m\u001b[0;34m\u001b[0m\u001b[0m\n",
            "\u001b[0;32m/usr/local/lib/python3.10/dist-packages/torch/nn/modules/conv.py\u001b[0m in \u001b[0;36m_conv_forward\u001b[0;34m(self, input, weight, bias)\u001b[0m\n\u001b[1;32m    454\u001b[0m                             \u001b[0mweight\u001b[0m\u001b[0;34m,\u001b[0m \u001b[0mbias\u001b[0m\u001b[0;34m,\u001b[0m \u001b[0mself\u001b[0m\u001b[0;34m.\u001b[0m\u001b[0mstride\u001b[0m\u001b[0;34m,\u001b[0m\u001b[0;34m\u001b[0m\u001b[0;34m\u001b[0m\u001b[0m\n\u001b[1;32m    455\u001b[0m                             _pair(0), self.dilation, self.groups)\n\u001b[0;32m--> 456\u001b[0;31m         return F.conv2d(input, weight, bias, self.stride,\n\u001b[0m\u001b[1;32m    457\u001b[0m                         self.padding, self.dilation, self.groups)\n\u001b[1;32m    458\u001b[0m \u001b[0;34m\u001b[0m\u001b[0m\n",
            "\u001b[0;31mRuntimeError\u001b[0m: Calculated padded input size per channel: (1 x 3072). Kernel size: (3072 x 3072). Kernel size can't be greater than actual input size"
          ]
        }
      ]
    },
    {
      "cell_type": "markdown",
      "source": [
        "## Second example"
      ],
      "metadata": {
        "id": "Z2gXa09E6Exe"
      }
    },
    {
      "cell_type": "code",
      "source": [
        "# Create a tensor of size 1x3072\n",
        "input_tensor = torch.randn(1, 1, 1, 3072)\n",
        "print(\"shape of input tensor => \",input_tensor.shape)\n",
        "# Create a linear layer with input size 3072 and output size 10\n",
        "linear_layer = nn.Linear(3072, 10)\n",
        "\n",
        "# Reshape the input tensor to match the expected input size of the linear layer\n",
        "input_tensor = input_tensor.view(1, -1)\n",
        "print(\"shape of input tensor => \",input_tensor.shape)\n",
        "# Apply the linear layer to the reshaped input tensor\n",
        "output_tensor = linear_layer(input_tensor)\n",
        "\n",
        "# Print the result\n",
        "print(output_tensor.shape)"
      ],
      "metadata": {
        "colab": {
          "base_uri": "https://localhost:8080/"
        },
        "id": "-7nyO-7N4XrS",
        "outputId": "4e04dc28-f06f-434f-fd5c-b3521baefbb2"
      },
      "execution_count": null,
      "outputs": [
        {
          "output_type": "stream",
          "name": "stdout",
          "text": [
            "shape of input tensor =>  torch.Size([1, 1, 1, 3072])\n",
            "shape of input tensor =>  torch.Size([1, 3072])\n",
            "torch.Size([1, 10])\n"
          ]
        }
      ]
    },
    {
      "cell_type": "code",
      "source": [],
      "metadata": {
        "id": "OG22jQsF5AJX"
      },
      "execution_count": null,
      "outputs": []
    },
    {
      "cell_type": "markdown",
      "source": [
        "### Third example"
      ],
      "metadata": {
        "id": "UMfIrD_U6K96"
      }
    },
    {
      "cell_type": "code",
      "source": [
        "# First dimension is for batch, then channel then height-width\n",
        "input_tensor = torch.randn(1, 3, 32, 32)\n",
        "print(\"input_tensor => \",input_tensor.shape)\n",
        "conv_layer = nn.Conv2d(in_channels=3, out_channels=1, kernel_size=5)\n",
        "output_tensor = conv_layer(input_tensor)\n",
        "print(\"output_tensor shape => \",output_tensor.shape)"
      ],
      "metadata": {
        "colab": {
          "base_uri": "https://localhost:8080/"
        },
        "id": "P7-owDZu2q6a",
        "outputId": "692de945-c217-4597-dc6f-47f71a4dbe45"
      },
      "execution_count": null,
      "outputs": [
        {
          "output_type": "stream",
          "name": "stdout",
          "text": [
            "input_tensor =>  torch.Size([1, 3, 32, 32])\n",
            "output_tensor shape =>  torch.Size([1, 1, 28, 28])\n"
          ]
        }
      ]
    },
    {
      "cell_type": "markdown",
      "source": [
        "#### Parameters"
      ],
      "metadata": {
        "id": "COUhhbg56N-f"
      }
    },
    {
      "cell_type": "code",
      "source": [
        "for name, param in conv_layer.named_parameters():\n",
        "    print(f\"{name}: {param.shape}\")\n"
      ],
      "metadata": {
        "colab": {
          "base_uri": "https://localhost:8080/"
        },
        "id": "jrHWo4-w2vOq",
        "outputId": "fc0368bb-cc1c-4656-a011-41e25f3c7c09"
      },
      "execution_count": null,
      "outputs": [
        {
          "output_type": "stream",
          "name": "stdout",
          "text": [
            "weight: torch.Size([1, 3, 5, 5])\n",
            "bias: torch.Size([1])\n"
          ]
        }
      ]
    },
    {
      "cell_type": "markdown",
      "source": [
        "#### 6-channel output"
      ],
      "metadata": {
        "id": "1o43YkFP6UHK"
      }
    },
    {
      "cell_type": "code",
      "source": [
        "# First dimension is for batch, then channel then height-width\n",
        "input_tensor = torch.randn(1, 3, 32, 32)\n",
        "print(\"input_tensor => \",input_tensor.shape)\n",
        "conv_layer = nn.Conv2d(in_channels=3, out_channels=6, kernel_size=5)\n",
        "output_tensor = conv_layer(input_tensor)\n",
        "print(\"output_tensor shape => \",output_tensor.shape)"
      ],
      "metadata": {
        "colab": {
          "base_uri": "https://localhost:8080/"
        },
        "id": "lGGZ6s322vLa",
        "outputId": "02cf15e6-f4af-4bf7-ae8e-e8f65e6ade51"
      },
      "execution_count": null,
      "outputs": [
        {
          "output_type": "stream",
          "name": "stdout",
          "text": [
            "input_tensor =>  torch.Size([1, 3, 32, 32])\n",
            "output_tensor shape =>  torch.Size([1, 6, 28, 28])\n"
          ]
        }
      ]
    },
    {
      "cell_type": "code",
      "source": [
        "for name, param in conv_layer.named_parameters():\n",
        "    print(f\"{name}: {param.shape}\")\n"
      ],
      "metadata": {
        "colab": {
          "base_uri": "https://localhost:8080/"
        },
        "id": "ogBmpRpX2vIk",
        "outputId": "4413f5fe-40e5-4576-f8ad-bbcb35bd999f"
      },
      "execution_count": null,
      "outputs": [
        {
          "output_type": "stream",
          "name": "stdout",
          "text": [
            "weight: torch.Size([6, 3, 5, 5])\n",
            "bias: torch.Size([6])\n"
          ]
        }
      ]
    },
    {
      "cell_type": "markdown",
      "source": [
        "#### 6-channel output, batch size = 3"
      ],
      "metadata": {
        "id": "MR3KA4gM6Wyg"
      }
    },
    {
      "cell_type": "code",
      "source": [
        "# First dimension is for batch, then channel then height-width\n",
        "input_tensor = torch.randn(3, 3, 32, 32)\n",
        "print(\"input_tensor => \",input_tensor.shape)\n",
        "conv_layer = nn.Conv2d(in_channels=3, out_channels=6, kernel_size=5)\n",
        "output_tensor = conv_layer(input_tensor)\n",
        "print(\"output_tensor shape => \",output_tensor.shape)"
      ],
      "metadata": {
        "colab": {
          "base_uri": "https://localhost:8080/"
        },
        "id": "QEUiuUAe2vFj",
        "outputId": "4302cfec-0f6c-4b8c-c5e5-18594e4329e9"
      },
      "execution_count": null,
      "outputs": [
        {
          "output_type": "stream",
          "name": "stdout",
          "text": [
            "input_tensor =>  torch.Size([3, 3, 32, 32])\n",
            "output_tensor shape =>  torch.Size([3, 6, 28, 28])\n"
          ]
        }
      ]
    },
    {
      "cell_type": "code",
      "source": [
        "# No. of paramters remains the same whatever be the batch size\n",
        "for name, param in conv_layer.named_parameters():\n",
        "    print(f\"{name}: {param.shape}\")\n"
      ],
      "metadata": {
        "colab": {
          "base_uri": "https://localhost:8080/"
        },
        "id": "YUyo8S2W5s1Q",
        "outputId": "9f3f0ed2-523f-4852-8ab9-d6dbe5db82e8"
      },
      "execution_count": null,
      "outputs": [
        {
          "output_type": "stream",
          "name": "stdout",
          "text": [
            "weight: torch.Size([6, 3, 5, 5])\n",
            "bias: torch.Size([6])\n"
          ]
        }
      ]
    },
    {
      "cell_type": "markdown",
      "source": [
        "#### Stride = 1"
      ],
      "metadata": {
        "id": "ZxDB9S7n8jod"
      }
    },
    {
      "cell_type": "code",
      "source": [
        "# First dimension is for batch, then channel then height-width\n",
        "input_tensor = torch.randn(1, 1, 7, 7)\n",
        "print(\"input_tensor => \",input_tensor.shape)\n",
        "conv_layer = nn.Conv2d(in_channels=1, out_channels=1, kernel_size=3, stride=1)\n",
        "output_tensor = conv_layer(input_tensor)\n",
        "print(\"output_tensor shape => \",output_tensor.shape)"
      ],
      "metadata": {
        "colab": {
          "base_uri": "https://localhost:8080/"
        },
        "id": "_AnPpnwc8fe_",
        "outputId": "dfbcfbe1-e206-4da8-b8d1-18f7e0a67e2f"
      },
      "execution_count": null,
      "outputs": [
        {
          "output_type": "stream",
          "name": "stdout",
          "text": [
            "input_tensor =>  torch.Size([1, 1, 7, 7])\n",
            "output_tensor shape =>  torch.Size([1, 1, 5, 5])\n"
          ]
        }
      ]
    },
    {
      "cell_type": "markdown",
      "source": [
        "#### Stride = 2"
      ],
      "metadata": {
        "id": "VqfxbQwq80Vq"
      }
    },
    {
      "cell_type": "code",
      "source": [
        "# First dimension is for batch, then channel then height-width\n",
        "input_tensor = torch.randn(1, 1, 7, 7)\n",
        "print(\"input_tensor => \",input_tensor.shape)\n",
        "conv_layer = nn.Conv2d(in_channels=1, out_channels=1, kernel_size=3, stride=2)\n",
        "output_tensor = conv_layer(input_tensor)\n",
        "print(\"output_tensor shape => \",output_tensor.shape)"
      ],
      "metadata": {
        "colab": {
          "base_uri": "https://localhost:8080/"
        },
        "id": "sR45gJeH8yuc",
        "outputId": "03a30ac4-51b6-4fae-e25b-9813d36b2b98"
      },
      "execution_count": null,
      "outputs": [
        {
          "output_type": "stream",
          "name": "stdout",
          "text": [
            "input_tensor =>  torch.Size([1, 1, 7, 7])\n",
            "output_tensor shape =>  torch.Size([1, 1, 3, 3])\n"
          ]
        }
      ]
    },
    {
      "cell_type": "markdown",
      "source": [
        "#### Stride = 3"
      ],
      "metadata": {
        "id": "vGeICW-Q88x2"
      }
    },
    {
      "cell_type": "code",
      "source": [
        "# First dimension is for batch, then channel then height-width\n",
        "input_tensor = torch.randn(1, 1, 7, 7)\n",
        "print(\"input_tensor => \",input_tensor.shape)\n",
        "conv_layer = nn.Conv2d(in_channels=1, out_channels=1, kernel_size=3, stride=3)\n",
        "output_tensor = conv_layer(input_tensor)\n",
        "print(\"output_tensor shape => \",output_tensor.shape)"
      ],
      "metadata": {
        "colab": {
          "base_uri": "https://localhost:8080/"
        },
        "id": "dQ3OJRiz8yrh",
        "outputId": "49ca1784-9dff-4001-d23e-9cddeec1fb45"
      },
      "execution_count": null,
      "outputs": [
        {
          "output_type": "stream",
          "name": "stdout",
          "text": [
            "input_tensor =>  torch.Size([1, 1, 7, 7])\n",
            "output_tensor shape =>  torch.Size([1, 1, 2, 2])\n"
          ]
        }
      ]
    },
    {
      "cell_type": "code",
      "source": [
        "# First dimension is for batch, then channel then height-width\n",
        "input_tensor = torch.randn(1, 1, 7, 7)\n",
        "print(\"input_tensor => \",input_tensor.shape)\n",
        "conv_layer = nn.Conv2d(in_channels=1, out_channels=1, kernel_size=3, stride=3, padding=1)\n",
        "output_tensor = conv_layer(input_tensor)\n",
        "print(\"output_tensor shape => \",output_tensor.shape)"
      ],
      "metadata": {
        "colab": {
          "base_uri": "https://localhost:8080/"
        },
        "id": "C8zUs9--8mMQ",
        "outputId": "0e1b296c-8fd3-49e5-b6f5-fb16da73fb36"
      },
      "execution_count": null,
      "outputs": [
        {
          "output_type": "stream",
          "name": "stdout",
          "text": [
            "input_tensor =>  torch.Size([1, 1, 7, 7])\n",
            "output_tensor shape =>  torch.Size([1, 1, 3, 3])\n"
          ]
        }
      ]
    },
    {
      "cell_type": "markdown",
      "source": [
        "### Now with an advanced CNN"
      ],
      "metadata": {
        "id": "AN6_xQP-6oG-"
      }
    },
    {
      "cell_type": "code",
      "source": [
        "import torch\n",
        "import torch.nn as nn\n",
        "import torch.nn.functional as F\n",
        "from torchsummary import summary\n",
        "\n",
        "\n",
        "\n",
        "class ffcnn(nn.Module):\n",
        "    def __init__(self):\n",
        "        super().__init__()\n",
        "        self.conv1 = nn.Conv2d(in_channels=3, out_channels=3, kernel_size=3, stride=2, padding=1)\n",
        "        self.conv2 = nn.Conv2d(in_channels=3, out_channels=3, kernel_size=3, stride=1, padding=3)\n",
        "        self.bn2d = nn.BatchNorm2d(3)\n",
        "        self.maxpool = nn.MaxPool2d(2)\n",
        "        self.flatten = torch.nn.Flatten()\n",
        "        self.fc1 = nn.Linear(48, 10)\n",
        "        self.bn1d = nn.BatchNorm1d(10)\n",
        "        self.out = nn.Linear(10, 1)\n",
        "        self.sigmoid = nn.Sigmoid()\n",
        "\n",
        "\n",
        "    def forward(self, x):\n",
        "        x = self.conv1(x)\n",
        "        x = self.conv2(x)\n",
        "        x = self.bn2d(x)\n",
        "        x = self.maxpool(x)\n",
        "        x = self.flatten(x)\n",
        "        x = self.fc1(x)\n",
        "        x = self.bn1d(x)\n",
        "        x = self.out(x)\n",
        "        x = self.sigmoid(x)\n",
        "        return x"
      ],
      "metadata": {
        "id": "X4YWaCcg5v5w"
      },
      "execution_count": null,
      "outputs": []
    },
    {
      "cell_type": "code",
      "source": [
        "model = ffcnn()\n",
        "model_graph1 = draw_graph(model, input_size=(1,3,7,7),  expand_nested=True)\n",
        "model_graph1.visual_graph.render(format='png')\n",
        "model_graph1.visual_graph"
      ],
      "metadata": {
        "colab": {
          "base_uri": "https://localhost:8080/",
          "height": 1000
        },
        "id": "_8bwrUKr9p6L",
        "outputId": "051df5d3-2208-4f7c-ac6c-2ccb906040f2"
      },
      "execution_count": null,
      "outputs": [
        {
          "output_type": "execute_result",
          "data": {
            "image/png": "[encoded data removed]",
            "text/plain": [
              "<graphviz.graphs.Digraph at 0x7a7021aa93c0>"
            ]
          },
          "metadata": {},
          "execution_count": 20
        }
      ]
    },
    {
      "cell_type": "code",
      "source": [
        "summary(model, input_size=(3,7,7))"
      ],
      "metadata": {
        "colab": {
          "base_uri": "https://localhost:8080/"
        },
        "id": "2iZYVCNG9vXz",
        "outputId": "701f74a2-ae1d-41aa-90a2-8eae1081a1e7"
      },
      "execution_count": null,
      "outputs": [
        {
          "output_type": "stream",
          "name": "stdout",
          "text": [
            "----------------------------------------------------------------\n",
            "        Layer (type)               Output Shape         Param #\n",
            "================================================================\n",
            "            Conv2d-1              [-1, 3, 4, 4]              84\n",
            "            Conv2d-2              [-1, 3, 8, 8]              84\n",
            "       BatchNorm2d-3              [-1, 3, 8, 8]               6\n",
            "         MaxPool2d-4              [-1, 3, 4, 4]               0\n",
            "           Flatten-5                   [-1, 48]               0\n",
            "            Linear-6                   [-1, 10]             490\n",
            "       BatchNorm1d-7                   [-1, 10]              20\n",
            "            Linear-8                    [-1, 1]              11\n",
            "           Sigmoid-9                    [-1, 1]               0\n",
            "================================================================\n",
            "Total params: 695\n",
            "Trainable params: 695\n",
            "Non-trainable params: 0\n",
            "----------------------------------------------------------------\n",
            "Input size (MB): 0.00\n",
            "Forward/backward pass size (MB): 0.00\n",
            "Params size (MB): 0.00\n",
            "Estimated Total Size (MB): 0.01\n",
            "----------------------------------------------------------------\n"
          ]
        }
      ]
    },
    {
      "cell_type": "code",
      "source": [],
      "metadata": {
        "id": "ObMPbkb694Wl"
      },
      "execution_count": null,
      "outputs": []
    }
  ]
}